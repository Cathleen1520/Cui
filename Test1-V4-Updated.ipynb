{
 "cells": [
  {
   "cell_type": "code",
   "execution_count": null,
   "id": "8537e121",
   "metadata": {},
   "outputs": [],
   "source": [
    "import pandas as pd"
   ]
  },
  {
   "cell_type": "code",
   "execution_count": null,
   "id": "9f33c29d",
   "metadata": {},
   "outputs": [],
   "source": [
    "import numpy as np"
   ]
  },
  {
   "cell_type": "code",
   "execution_count": null,
   "id": "5be8ab54",
   "metadata": {},
   "outputs": [],
   "source": [
    "Real_estate=pd.read_csv('data_update.csv')"
   ]
  },
  {
   "cell_type": "code",
   "execution_count": null,
   "id": "1f728f26",
   "metadata": {
    "scrolled": false
   },
   "outputs": [],
   "source": [
    "pd.DataFrame(Real_estate)"
   ]
  },
  {
   "cell_type": "code",
   "execution_count": null,
   "id": "7e694e73",
   "metadata": {},
   "outputs": [],
   "source": [
    "Real_estate.rename(columns=str.lower,inplace=True)"
   ]
  },
  {
   "cell_type": "code",
   "execution_count": null,
   "id": "fcbe53bd",
   "metadata": {},
   "outputs": [],
   "source": [
    "Real_estate.homeid.nunique()"
   ]
  },
  {
   "cell_type": "code",
   "execution_count": null,
   "id": "bc3bdc6a",
   "metadata": {
    "scrolled": true
   },
   "outputs": [],
   "source": [
    "Real_estate.solutionid.nunique()"
   ]
  },
  {
   "cell_type": "code",
   "execution_count": null,
   "id": "7eff8e9c",
   "metadata": {},
   "outputs": [],
   "source": [
    "Real_estate['salestate']=Real_estate['salestate'].fillna(\"未公开\")\n",
    "Real_estate['mainstockrate']=Real_estate['mainstockrate'].fillna(0)\n",
    "Real_estate['totalbuildarea']=Real_estate['totalbuildarea'].fillna(0)\n",
    "Real_estate['supplyarea']=Real_estate['supplyarea'].fillna(0)\n",
    "Real_estate['tradearea']=Real_estate['tradearea'].fillna(0)\n",
    "Real_estate['totaltradeprice']=Real_estate['totaltradeprice'].fillna(0)\n",
    "Real_estate['sumsupplyarea']=Real_estate['sumsupplyarea'].fillna(0)"
   ]
  },
  {
   "cell_type": "code",
   "execution_count": null,
   "id": "656f7c8b",
   "metadata": {},
   "outputs": [],
   "source": [
    "print(Real_estate.info())"
   ]
  },
  {
   "cell_type": "code",
   "execution_count": null,
   "id": "de50ecf9",
   "metadata": {},
   "outputs": [],
   "source": [
    "cat_columns=[\"salestate\",\"roomusage\"]\n",
    "for column in cat_columns:\n",
    "    Real_estate[column]=Real_estate[column].astype('category')"
   ]
  },
  {
   "cell_type": "code",
   "execution_count": null,
   "id": "fef52623",
   "metadata": {},
   "outputs": [],
   "source": [
    "print(Real_estate['salestate'].value_counts())"
   ]
  },
  {
   "cell_type": "code",
   "execution_count": null,
   "id": "f473c9d4",
   "metadata": {},
   "outputs": [],
   "source": [
    "Real_estate['salestate']=Real_estate['salestate'].map({\"售罄\":1,\"预售\":0,\"销售\":0,\"尾盘\":0,\"形象\":0,\"未公开\":0,\"烂尾楼\":0})"
   ]
  },
  {
   "cell_type": "code",
   "execution_count": null,
   "id": "9e0e791e",
   "metadata": {},
   "outputs": [],
   "source": [
    "Real_estate1=Real_estate.copy()\n",
    "Real_estate1.sort_values([\"solutionid\",\"month\"],inplace=True)\n",
    "Real_estate1=Real_estate1.drop_duplicates(subset=['month','homeid','roomusage'],keep=\"last\")\n",
    "Real_estate1"
   ]
  },
  {
   "cell_type": "code",
   "execution_count": null,
   "id": "03f3e62b",
   "metadata": {},
   "outputs": [],
   "source": [
    "print(Real_estate1.info())"
   ]
  },
  {
   "cell_type": "code",
   "execution_count": null,
   "id": "9bf35d88",
   "metadata": {},
   "outputs": [],
   "source": [
    "print(Real_estate1['roomusage'].value_counts())"
   ]
  },
  {
   "cell_type": "code",
   "execution_count": null,
   "id": "1fe3a0da",
   "metadata": {},
   "outputs": [],
   "source": [
    "Real_estate1.homeid.nunique()"
   ]
  },
  {
   "cell_type": "code",
   "execution_count": null,
   "id": "958b7ebc",
   "metadata": {},
   "outputs": [],
   "source": [
    "Real_estate1['roomusage']=Real_estate['roomusage'].map({\"其他\":1,'普通住宅':0,\"商业\":0,\"别墅\":0,'酒店式公寓':0,'办公':0,\"动迁安置房\":0,\"工业\":0,\"限价房\":0,\"配套商品房\":0})"
   ]
  },
  {
   "cell_type": "code",
   "execution_count": null,
   "id": "c7716cfd",
   "metadata": {},
   "outputs": [],
   "source": [
    "Totalprice=Real_estate1[\"mainstockrate\"]*Real_estate1[\"itemstockrate\"]*Real_estate1[\"totaltradeprice\"]*0.0001"
   ]
  },
  {
   "cell_type": "code",
   "execution_count": null,
   "id": "3c9d1327",
   "metadata": {
    "scrolled": true
   },
   "outputs": [],
   "source": [
    "Real_estate1[\"Totalprice\"]=Totalprice\n",
    "Real_estate1"
   ]
  },
  {
   "cell_type": "code",
   "execution_count": null,
   "id": "c1b36371",
   "metadata": {
    "scrolled": true
   },
   "outputs": [],
   "source": [
    "pt1=Real_estate1.pivot_table(index='homeid',columns=\"roomusage\",values=\"tradearea\",aggfunc=np.sum)\n",
    "print(pt1)"
   ]
  },
  {
   "cell_type": "code",
   "execution_count": null,
   "id": "7c94805a",
   "metadata": {},
   "outputs": [],
   "source": [
    "df1=pt1[[0,1]]"
   ]
  },
  {
   "cell_type": "code",
   "execution_count": null,
   "id": "aa9acd5f",
   "metadata": {
    "scrolled": true
   },
   "outputs": [],
   "source": [
    "Real_estate2=Real_estate1.copy()\n",
    "Real_estate2.sort_values([\"homeid\",\"month\"],inplace=True)\n",
    "Real_estate2=Real_estate2.drop_duplicates(subset=[\"homeid\"],keep=\"last\")\n",
    "Real_estate2.set_index(\"homeid\",inplace=True)\n",
    "# 将“其他”的累计tradearea计算出来"
   ]
  },
  {
   "cell_type": "code",
   "execution_count": null,
   "id": "f023f056",
   "metadata": {},
   "outputs": [],
   "source": [
    "Real_estate2[\"Nettotaltradearea\"]=(Real_estate2[\"totaltradearea\"].fillna(0))-(df1[1].fillna(0))\n",
    "\n",
    "# 从totaltradearea 中扣除“其他”traderea\""
   ]
  },
  {
   "cell_type": "code",
   "execution_count": null,
   "id": "34ecd0ab",
   "metadata": {
    "scrolled": true
   },
   "outputs": [],
   "source": [
    "pd.DataFrame(Real_estate2)"
   ]
  },
  {
   "cell_type": "code",
   "execution_count": null,
   "id": "39d94ae0",
   "metadata": {
    "scrolled": true
   },
   "outputs": [],
   "source": [
    "#TEST, DELETE LATER\n",
    "Real_estate2.loc[\"6d5790f8-3a8d-4079-b2ba-4eae0cda87b4\",:]"
   ]
  },
  {
   "cell_type": "code",
   "execution_count": null,
   "id": "9a9af133",
   "metadata": {},
   "outputs": [],
   "source": [
    "Real_estate2.reset_index(inplace=True)"
   ]
  },
  {
   "cell_type": "code",
   "execution_count": null,
   "id": "5873e50a",
   "metadata": {
    "scrolled": false
   },
   "outputs": [],
   "source": [
    "df2=Real_estate2[['solutionid','homeid','maincaption','Totalprice','Nettotaltradearea','salestate','totalbuildarea','sumsupplyarea','month']]\n",
    "df2.head()"
   ]
  },
  {
   "cell_type": "code",
   "execution_count": null,
   "id": "d611a188",
   "metadata": {
    "scrolled": false
   },
   "outputs": [],
   "source": [
    "def calc_weights(the_area):\n",
    "    return the_area/the_area.sum()\n",
    "weights1=df2.groupby('solutionid').totalbuildarea.apply(calc_weights)\n",
    "weights1"
   ]
  },
  {
   "cell_type": "code",
   "execution_count": null,
   "id": "9382d0fb",
   "metadata": {
    "scrolled": true
   },
   "outputs": [],
   "source": [
    "df2[\"weights1\"]=weights1\n",
    "df2.head()"
   ]
  },
  {
   "cell_type": "code",
   "execution_count": null,
   "id": "d3947c5c",
   "metadata": {},
   "outputs": [],
   "source": [
    "sumsupplyarea1=df2.loc[:,\"sumsupplyarea\"]*df2.loc[:,\"weights1\"]"
   ]
  },
  {
   "cell_type": "code",
   "execution_count": null,
   "id": "37eb810e",
   "metadata": {
    "scrolled": true
   },
   "outputs": [],
   "source": [
    "df2[\"sumsupplyarea1\"]=sumsupplyarea1"
   ]
  },
  {
   "cell_type": "code",
   "execution_count": null,
   "id": "c3d33c26",
   "metadata": {},
   "outputs": [],
   "source": [
    "df2['Totalbuildarea1']=df2.loc[:,['totalbuildarea','sumsupplyarea1']].apply(max,axis=1)\n",
    "df2"
   ]
  },
  {
   "cell_type": "code",
   "execution_count": null,
   "id": "6cf82d08",
   "metadata": {
    "scrolled": false
   },
   "outputs": [],
   "source": [
    "df2.set_index([\"solutionid\",\"salestate\"],inplace=True)\n",
    "df2"
   ]
  },
  {
   "cell_type": "code",
   "execution_count": null,
   "id": "67b769c3",
   "metadata": {
    "scrolled": false
   },
   "outputs": [],
   "source": [
    "df4=df2.groupby(['solutionid','salestate']).sum()\n",
    "df4\n",
    "# Only use the totalbuildarea column"
   ]
  },
  {
   "cell_type": "code",
   "execution_count": null,
   "id": "45eaf512",
   "metadata": {},
   "outputs": [],
   "source": [
    "df3=df2.groupby(['solutionid','salestate']).mean()\n",
    "df3=df3.xs(1,level='salestate')\n",
    "# only use \"Nettotaltradearea\""
   ]
  },
  {
   "cell_type": "code",
   "execution_count": null,
   "id": "188b4e4d",
   "metadata": {
    "scrolled": true
   },
   "outputs": [],
   "source": [
    "df4=df4.xs(1,level='salestate')\n",
    "df4=df4.drop(['Totalprice','Nettotaltradearea','sumsupplyarea','weights1','sumsupplyarea1',\"Totalbuildarea1\"],axis=1)\n",
    "df4"
   ]
  },
  {
   "cell_type": "code",
   "execution_count": null,
   "id": "bd150c7b",
   "metadata": {
    "scrolled": true
   },
   "outputs": [],
   "source": [
    "#TEST, DELETE LATER\n",
    "df3.loc[\"05759d0c-5fa5-433a-b16d-4fcd07ead827\",:]"
   ]
  },
  {
   "cell_type": "code",
   "execution_count": null,
   "id": "98fb9f60",
   "metadata": {
    "scrolled": false
   },
   "outputs": [],
   "source": [
    "Nettotaltradearea1=df3['Nettotaltradearea']-df4['totalbuildarea']\n",
    "df3[\"Nettotaltradearea1\"]=Nettotaltradearea1"
   ]
  },
  {
   "cell_type": "code",
   "execution_count": null,
   "id": "cf9fc7e0",
   "metadata": {
    "scrolled": false
   },
   "outputs": [],
   "source": [
    "df3.reset_index(inplace=True)\n",
    "df3"
   ]
  },
  {
   "cell_type": "code",
   "execution_count": null,
   "id": "9b26444d",
   "metadata": {
    "scrolled": false
   },
   "outputs": [],
   "source": [
    "df3=df3.loc[:,['solutionid',\"Nettotaltradearea1\"]]\n",
    "df3"
   ]
  },
  {
   "cell_type": "code",
   "execution_count": null,
   "id": "9321ef52",
   "metadata": {},
   "outputs": [],
   "source": [
    "df3.set_index([\"solutionid\"],inplace=True)\n",
    "df3"
   ]
  },
  {
   "cell_type": "code",
   "execution_count": null,
   "id": "5f4fbabb",
   "metadata": {},
   "outputs": [],
   "source": [
    "df5=df2.xs(0,level='salestate')\n",
    "df5"
   ]
  },
  {
   "cell_type": "code",
   "execution_count": null,
   "id": "ca89e8da",
   "metadata": {
    "scrolled": true
   },
   "outputs": [],
   "source": [
    "df6=pd.merge(df5,df3,on=['solutionid'],how='left')\n",
    "df6.reset_index(inplace=True)\n",
    "df6"
   ]
  },
  {
   "cell_type": "code",
   "execution_count": null,
   "id": "aaae786b",
   "metadata": {
    "scrolled": true
   },
   "outputs": [],
   "source": [
    "df6['Nettotaltradearea2']=df6['Nettotaltradearea1'].fillna(df6['Nettotaltradearea'])\n",
    "df6.head()"
   ]
  },
  {
   "cell_type": "code",
   "execution_count": null,
   "id": "19d05997",
   "metadata": {},
   "outputs": [],
   "source": [
    "df6['Nettotaltradearea3']=df6.apply(lambda x:0 if x['Nettotaltradearea2']<0 else x['Nettotaltradearea2'],axis=1)"
   ]
  },
  {
   "cell_type": "code",
   "execution_count": null,
   "id": "2781f515",
   "metadata": {
    "scrolled": false
   },
   "outputs": [],
   "source": [
    "def calc_weights(the_area):\n",
    "    return the_area/the_area.sum()\n",
    "weights=df6.groupby('solutionid').totalbuildarea.apply(calc_weights)\n",
    "weights"
   ]
  },
  {
   "cell_type": "code",
   "execution_count": null,
   "id": "9782bdc8",
   "metadata": {
    "scrolled": true
   },
   "outputs": [],
   "source": [
    "df6[\"weights\"]=weights\n",
    "df6.head()"
   ]
  },
  {
   "cell_type": "code",
   "execution_count": null,
   "id": "842f5019",
   "metadata": {},
   "outputs": [],
   "source": [
    "Totalvalue=df6.loc[:,\"Totalprice\"]*(df6.loc[:,\"Totalbuildarea1\"]-df6.loc[:,\"Nettotaltradearea3\"]*df6.loc[:,\"weights\"])"
   ]
  },
  {
   "cell_type": "code",
   "execution_count": null,
   "id": "60a94f79",
   "metadata": {
    "scrolled": true
   },
   "outputs": [],
   "source": [
    "df6[\"Totalvalue\"]=Totalvalue\n",
    "df6['Totalvalue1']=df6.apply(lambda x:0 if x['Totalvalue']<0 else x['Totalvalue'],axis=1)"
   ]
  },
  {
   "cell_type": "code",
   "execution_count": null,
   "id": "badfbc57",
   "metadata": {
    "scrolled": true
   },
   "outputs": [],
   "source": [
    "pt2=df6.pivot_table(index=['maincaption'],values=\"Totalvalue1\",aggfunc=np.sum)\n",
    "pt2"
   ]
  },
  {
   "cell_type": "code",
   "execution_count": null,
   "id": "b5524b7d",
   "metadata": {},
   "outputs": [],
   "source": [
    "pt2.to_excel(\"销售统计6.xls\")"
   ]
  },
  {
   "cell_type": "code",
   "execution_count": null,
   "id": "34cc611b",
   "metadata": {},
   "outputs": [],
   "source": []
  },
  {
   "cell_type": "code",
   "execution_count": null,
   "id": "08e32edd",
   "metadata": {},
   "outputs": [],
   "source": []
  }
 ],
 "metadata": {
  "kernelspec": {
   "display_name": "Python 3",
   "language": "python",
   "name": "python3"
  },
  "language_info": {
   "codemirror_mode": {
    "name": "ipython",
    "version": 3
   },
   "file_extension": ".py",
   "mimetype": "text/x-python",
   "name": "python",
   "nbconvert_exporter": "python",
   "pygments_lexer": "ipython3",
   "version": "3.8.8"
  }
 },
 "nbformat": 4,
 "nbformat_minor": 5
}
